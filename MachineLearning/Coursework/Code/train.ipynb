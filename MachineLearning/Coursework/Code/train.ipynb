{
 "cells": [
  {
   "cell_type": "code",
   "execution_count": 1,
   "metadata": {
    "collapsed": true
   },
   "outputs": [],
   "source": [
    "# 导入库\n",
    "import pandas as pd\n",
    "import numpy as np"
   ]
  },
  {
   "cell_type": "code",
   "execution_count": 2,
   "metadata": {},
   "outputs": [
    {
     "data": {
      "text/html": [
       "<div>\n",
       "<style>\n",
       "    .dataframe thead tr:only-child th {\n",
       "        text-align: right;\n",
       "    }\n",
       "\n",
       "    .dataframe thead th {\n",
       "        text-align: left;\n",
       "    }\n",
       "\n",
       "    .dataframe tbody tr th {\n",
       "        vertical-align: top;\n",
       "    }\n",
       "</style>\n",
       "<table border=\"1\" class=\"dataframe\">\n",
       "  <thead>\n",
       "    <tr style=\"text-align: right;\">\n",
       "      <th></th>\n",
       "      <th>id</th>\n",
       "      <th>a</th>\n",
       "      <th>b</th>\n",
       "      <th>c</th>\n",
       "      <th>t</th>\n",
       "      <th>distance</th>\n",
       "    </tr>\n",
       "  </thead>\n",
       "  <tbody>\n",
       "    <tr>\n",
       "      <th>0</th>\n",
       "      <td>0</td>\n",
       "      <td>5.343934</td>\n",
       "      <td>-3.793345</td>\n",
       "      <td>-5.849364</td>\n",
       "      <td>0</td>\n",
       "      <td>8.784200</td>\n",
       "    </tr>\n",
       "    <tr>\n",
       "      <th>1</th>\n",
       "      <td>1</td>\n",
       "      <td>-2.078382</td>\n",
       "      <td>0.795553</td>\n",
       "      <td>-3.898876</td>\n",
       "      <td>0</td>\n",
       "      <td>4.489300</td>\n",
       "    </tr>\n",
       "    <tr>\n",
       "      <th>2</th>\n",
       "      <td>2</td>\n",
       "      <td>-6.923646</td>\n",
       "      <td>1.368068</td>\n",
       "      <td>-3.871322</td>\n",
       "      <td>0</td>\n",
       "      <td>8.049572</td>\n",
       "    </tr>\n",
       "    <tr>\n",
       "      <th>3</th>\n",
       "      <td>3</td>\n",
       "      <td>-13.794147</td>\n",
       "      <td>4.336902</td>\n",
       "      <td>16.739670</td>\n",
       "      <td>1</td>\n",
       "      <td>22.120211</td>\n",
       "    </tr>\n",
       "    <tr>\n",
       "      <th>4</th>\n",
       "      <td>4</td>\n",
       "      <td>-5.175507</td>\n",
       "      <td>0.138892</td>\n",
       "      <td>1.171502</td>\n",
       "      <td>0</td>\n",
       "      <td>5.308256</td>\n",
       "    </tr>\n",
       "  </tbody>\n",
       "</table>\n",
       "</div>"
      ],
      "text/plain": [
       "   id          a         b          c  t   distance\n",
       "0   0   5.343934 -3.793345  -5.849364  0   8.784200\n",
       "1   1  -2.078382  0.795553  -3.898876  0   4.489300\n",
       "2   2  -6.923646  1.368068  -3.871322  0   8.049572\n",
       "3   3 -13.794147  4.336902  16.739670  1  22.120211\n",
       "4   4  -5.175507  0.138892   1.171502  0   5.308256"
      ]
     },
     "execution_count": 2,
     "metadata": {},
     "output_type": "execute_result"
    }
   ],
   "source": [
    "trainSet = pd.read_csv(\"Training-set.csv\")\n",
    "trainSet.head()"
   ]
  },
  {
   "cell_type": "code",
   "execution_count": 3,
   "metadata": {},
   "outputs": [
    {
     "data": {
      "text/html": [
       "<div>\n",
       "<style>\n",
       "    .dataframe thead tr:only-child th {\n",
       "        text-align: right;\n",
       "    }\n",
       "\n",
       "    .dataframe thead th {\n",
       "        text-align: left;\n",
       "    }\n",
       "\n",
       "    .dataframe tbody tr th {\n",
       "        vertical-align: top;\n",
       "    }\n",
       "</style>\n",
       "<table border=\"1\" class=\"dataframe\">\n",
       "  <thead>\n",
       "    <tr style=\"text-align: right;\">\n",
       "      <th></th>\n",
       "      <th>id</th>\n",
       "      <th>a</th>\n",
       "      <th>b</th>\n",
       "      <th>c</th>\n",
       "      <th>distance</th>\n",
       "      <th>t</th>\n",
       "    </tr>\n",
       "  </thead>\n",
       "  <tbody>\n",
       "    <tr>\n",
       "      <th>0</th>\n",
       "      <td>7000</td>\n",
       "      <td>-9.763325</td>\n",
       "      <td>-5.980476</td>\n",
       "      <td>-1.116588</td>\n",
       "      <td>11.503712</td>\n",
       "      <td>1</td>\n",
       "    </tr>\n",
       "    <tr>\n",
       "      <th>1</th>\n",
       "      <td>7001</td>\n",
       "      <td>5.717620</td>\n",
       "      <td>-4.977784</td>\n",
       "      <td>-9.168925</td>\n",
       "      <td>11.897003</td>\n",
       "      <td>0</td>\n",
       "    </tr>\n",
       "    <tr>\n",
       "      <th>2</th>\n",
       "      <td>7002</td>\n",
       "      <td>5.170640</td>\n",
       "      <td>-5.495420</td>\n",
       "      <td>-7.009920</td>\n",
       "      <td>10.299229</td>\n",
       "      <td>0</td>\n",
       "    </tr>\n",
       "    <tr>\n",
       "      <th>3</th>\n",
       "      <td>7003</td>\n",
       "      <td>-4.642903</td>\n",
       "      <td>-9.158488</td>\n",
       "      <td>-2.367180</td>\n",
       "      <td>10.537456</td>\n",
       "      <td>0</td>\n",
       "    </tr>\n",
       "    <tr>\n",
       "      <th>4</th>\n",
       "      <td>7004</td>\n",
       "      <td>8.303382</td>\n",
       "      <td>5.461795</td>\n",
       "      <td>1.792073</td>\n",
       "      <td>10.098955</td>\n",
       "      <td>0</td>\n",
       "    </tr>\n",
       "  </tbody>\n",
       "</table>\n",
       "</div>"
      ],
      "text/plain": [
       "     id         a         b         c   distance  t\n",
       "0  7000 -9.763325 -5.980476 -1.116588  11.503712  1\n",
       "1  7001  5.717620 -4.977784 -9.168925  11.897003  0\n",
       "2  7002  5.170640 -5.495420 -7.009920  10.299229  0\n",
       "3  7003 -4.642903 -9.158488 -2.367180  10.537456  0\n",
       "4  7004  8.303382  5.461795  1.792073  10.098955  0"
      ]
     },
     "execution_count": 3,
     "metadata": {},
     "output_type": "execute_result"
    }
   ],
   "source": [
    "testSet = pd.read_csv(\"Testing-set.csv\")\n",
    "testSet.head()"
   ]
  },
  {
   "cell_type": "code",
   "execution_count": 4,
   "metadata": {},
   "outputs": [
    {
     "data": {
      "text/plain": [
       "1    525\n",
       "0    475\n",
       "Name: t, dtype: int64"
      ]
     },
     "execution_count": 4,
     "metadata": {},
     "output_type": "execute_result"
    }
   ],
   "source": [
    "# 查看每个种类有多少项实例\n",
    "testSet[\"t\"].value_counts()"
   ]
  },
  {
   "cell_type": "code",
   "execution_count": null,
   "metadata": {
    "collapsed": true
   },
   "outputs": [],
   "source": []
  },
  {
   "cell_type": "code",
   "execution_count": 5,
   "metadata": {},
   "outputs": [
    {
     "data": {
      "text/plain": [
       "array([[  5.34393442,  -3.79334507,  -5.84936405],\n",
       "       [ -2.07838159,   0.79555251,  -3.8988764 ],\n",
       "       [ -6.92364571,   1.36806794,  -3.87132155],\n",
       "       [-13.79414689,   4.33690176,  16.73966994],\n",
       "       [ -5.17550727,   0.13889184,   1.17150158],\n",
       "       [ -2.52705424,  -8.46192975,   8.78905177],\n",
       "       [ -8.12192239,  -1.25755102,   5.60437402],\n",
       "       [  8.38061351,  -1.44151983,  -3.02848235],\n",
       "       [ -1.59927128,  -4.55251467,   3.0050456 ],\n",
       "       [-21.34622842,  18.42139246, -18.39413667]])"
      ]
     },
     "execution_count": 5,
     "metadata": {},
     "output_type": "execute_result"
    }
   ],
   "source": [
    "x_train = np.array(trainSet[[\"a\", \"b\", \"c\"]])\n",
    "x_train[0:10]"
   ]
  },
  {
   "cell_type": "code",
   "execution_count": 48,
   "metadata": {},
   "outputs": [
    {
     "data": {
      "text/plain": [
       "array([[1, 0],\n",
       "       [1, 0],\n",
       "       [1, 0],\n",
       "       [0, 1],\n",
       "       [1, 0],\n",
       "       [0, 1],\n",
       "       [1, 0],\n",
       "       [1, 0],\n",
       "       [1, 0],\n",
       "       [0, 1]], dtype=int64)"
      ]
     },
     "execution_count": 48,
     "metadata": {},
     "output_type": "execute_result"
    }
   ],
   "source": [
    "TrainSetOneHotLabel = pd.read_csv(\"TrainSetOneHotLabel.csv\")\n",
    "y_train = np.array(TrainSetOneHotLabel)\n",
    "y_train[0:10]"
   ]
  },
  {
   "cell_type": "code",
   "execution_count": 7,
   "metadata": {},
   "outputs": [
    {
     "data": {
      "text/plain": [
       "array([[-9.76332494, -5.98047647, -1.11658814],\n",
       "       [ 5.7176201 , -4.97778351, -9.16892473],\n",
       "       [ 5.17063988, -5.49541958, -7.00991964],\n",
       "       [-4.64290272, -9.15848767, -2.36717971],\n",
       "       [ 8.30338227,  5.46179545,  1.79207252]])"
      ]
     },
     "execution_count": 7,
     "metadata": {},
     "output_type": "execute_result"
    }
   ],
   "source": [
    "testX = np.array(testSet[[\"a\", \"b\", \"c\"]])\n",
    "testX[0:5]"
   ]
  },
  {
   "cell_type": "code",
   "execution_count": 52,
   "metadata": {
    "scrolled": true
   },
   "outputs": [
    {
     "data": {
      "text/plain": [
       "array([[0, 1],\n",
       "       [1, 0],\n",
       "       [1, 0],\n",
       "       [1, 0],\n",
       "       [1, 0],\n",
       "       [1, 0],\n",
       "       [0, 1],\n",
       "       [1, 0],\n",
       "       [0, 1],\n",
       "       [1, 0]], dtype=int64)"
      ]
     },
     "execution_count": 52,
     "metadata": {},
     "output_type": "execute_result"
    }
   ],
   "source": [
    "TestingOneHotlabel = pd.read_csv(\"TestingOneHotlabel.csv\")\n",
    "testY = np.array(TestingOneHotlabel)\n",
    "testY[0:10]"
   ]
  },
  {
   "cell_type": "code",
   "execution_count": 9,
   "metadata": {
    "scrolled": true
   },
   "outputs": [
    {
     "data": {
      "text/plain": [
       "array([1, 0, 0, 0, 0, 0, 1, 0, 1, 0], dtype=int64)"
      ]
     },
     "execution_count": 9,
     "metadata": {},
     "output_type": "execute_result"
    }
   ],
   "source": [
    "np.argmax(testY[0:10], 1)"
   ]
  },
  {
   "cell_type": "code",
   "execution_count": null,
   "metadata": {
    "collapsed": true
   },
   "outputs": [],
   "source": []
  },
  {
   "cell_type": "code",
   "execution_count": null,
   "metadata": {
    "collapsed": true
   },
   "outputs": [],
   "source": []
  },
  {
   "cell_type": "code",
   "execution_count": 10,
   "metadata": {
    "collapsed": true
   },
   "outputs": [],
   "source": [
    " from sklearn import tree"
   ]
  },
  {
   "cell_type": "code",
   "execution_count": 11,
   "metadata": {
    "collapsed": true
   },
   "outputs": [],
   "source": [
    "clf = tree.DecisionTreeClassifier()\n",
    "clf.fit(trainSet[[\"a\", \"b\", \"c\"]], trainSet[\"t\"])\n",
    "treePredict = clf.predict(testSet[[\"a\", \"b\", \"c\"]])"
   ]
  },
  {
   "cell_type": "code",
   "execution_count": 12,
   "metadata": {},
   "outputs": [
    {
     "data": {
      "text/plain": [
       "762"
      ]
     },
     "execution_count": 12,
     "metadata": {},
     "output_type": "execute_result"
    }
   ],
   "source": [
    "sum(treePredict==testSet[\"t\"])"
   ]
  },
  {
   "cell_type": "code",
   "execution_count": null,
   "metadata": {
    "collapsed": true
   },
   "outputs": [],
   "source": []
  },
  {
   "cell_type": "code",
   "execution_count": null,
   "metadata": {
    "collapsed": true
   },
   "outputs": [],
   "source": []
  },
  {
   "cell_type": "code",
   "execution_count": 13,
   "metadata": {
    "collapsed": true
   },
   "outputs": [],
   "source": [
    "from sklearn.neighbors import KNeighborsClassifier"
   ]
  },
  {
   "cell_type": "code",
   "execution_count": 36,
   "metadata": {
    "collapsed": true
   },
   "outputs": [],
   "source": [
    "knn = KNeighborsClassifier(n_neighbors=1, p=2) \n",
    "knn.fit(trainSet[[\"a\", \"b\", \"c\"]], trainSet[\"t\"])\n",
    "knnpredict = knn.predict(testSet[[\"a\", \"b\", \"c\"]])"
   ]
  },
  {
   "cell_type": "code",
   "execution_count": 37,
   "metadata": {},
   "outputs": [
    {
     "data": {
      "text/plain": [
       "772"
      ]
     },
     "execution_count": 37,
     "metadata": {},
     "output_type": "execute_result"
    }
   ],
   "source": [
    "sum(knnpredict==testSet[\"t\"])"
   ]
  },
  {
   "cell_type": "code",
   "execution_count": null,
   "metadata": {
    "collapsed": true
   },
   "outputs": [],
   "source": []
  },
  {
   "cell_type": "code",
   "execution_count": 49,
   "metadata": {},
   "outputs": [],
   "source": [
    "x_up_train = trainSet.loc[trainSet[\"a\"]>0][[\"a\", \"b\", \"c\"]]\n",
    "y_up_train = TrainSetOneHotLabel.loc[trainSet[\"a\"]>0]"
   ]
  },
  {
   "cell_type": "code",
   "execution_count": 51,
   "metadata": {},
   "outputs": [],
   "source": [
    "x_down_train = trainSet.loc[trainSet[\"a\"]<=0][[\"a\", \"b\", \"c\"]]\n",
    "y_down_train = TrainSetOneHotLabel.loc[trainSet[\"a\"]<=0]"
   ]
  },
  {
   "cell_type": "code",
   "execution_count": 53,
   "metadata": {
    "collapsed": true
   },
   "outputs": [],
   "source": [
    "x_up_test = testSet.loc[testSet[\"a\"]>0][[\"a\", \"b\", \"c\"]]\n",
    "y_up_test = TestingOneHotlabel.loc[testSet[\"a\"]>0]"
   ]
  },
  {
   "cell_type": "code",
   "execution_count": 54,
   "metadata": {
    "collapsed": true
   },
   "outputs": [],
   "source": [
    "x_down_test = testSet.loc[testSet[\"a\"]<=0][[\"a\", \"b\", \"c\"]]\n",
    "y_down_test = TestingOneHotlabel.loc[testSet[\"a\"]<=0]"
   ]
  },
  {
   "cell_type": "code",
   "execution_count": 58,
   "metadata": {},
   "outputs": [
    {
     "name": "stdout",
     "output_type": "stream",
     "text": [
      "(3462, 3) (3462, 2) (3538, 3) (3538, 2)\n",
      "(509, 3) (509, 2) (491, 3) (491, 2)\n"
     ]
    }
   ],
   "source": [
    "print(np.shape(x_up_train), np.shape(y_up_train), np.shape(x_down_train), np.shape(y_down_train))\n",
    "print(np.shape(x_up_test), np.shape(y_up_test), np.shape(x_down_test), np.shape(y_down_test))"
   ]
  },
  {
   "cell_type": "code",
   "execution_count": null,
   "metadata": {
    "collapsed": true
   },
   "outputs": [],
   "source": []
  },
  {
   "cell_type": "code",
   "execution_count": 38,
   "metadata": {
    "collapsed": true
   },
   "outputs": [],
   "source": [
    "import tensorflow as tf"
   ]
  },
  {
   "cell_type": "code",
   "execution_count": 62,
   "metadata": {
    "collapsed": true
   },
   "outputs": [],
   "source": [
    "xTrain = tf.placeholder(dtype=tf.float32, shape=[None, 3]);\n",
    "yTrain = tf.placeholder(dtype=tf.float32, shape=[None, 2])\n",
    "\n",
    "weight1 = tf.Variable(tf.random_normal([3, 33]))\n",
    "biases1 = tf.Variable(tf.zeros([1, 33]) + 0.1)\n",
    "weight2 = tf.Variable(tf.random_normal([33, 33]))\n",
    "biases2 = tf.Variable(tf.zeros([1, 33]) + 0.1)\n",
    "weight3 = tf.Variable(tf.random_normal([33, 33]))\n",
    "biases3 = tf.Variable(tf.zeros([1, 33]) + 0.1)\n",
    "weight4 = tf.Variable(tf.random_normal([33, 2]))\n",
    "biases4 = tf.Variable(tf.zeros([1, 2]) + 0.1)\n",
    "\n",
    "hidden1 = tf.matmul(xTrain, weight1) + biases1\n",
    "hidden2 = tf.matmul(tf.nn.relu(hidden1), weight2) + biases2\n",
    "hidden3 = tf.matmul(tf.nn.relu(hidden2), weight3) + biases3\n",
    "output = tf.matmul(tf.nn.relu(hidden3), weight4) + biases4\n",
    "\n",
    "predictions = tf.nn.softmax(output)\n",
    "\n",
    "cross_entropy = tf.reduce_mean(-tf.reduce_sum(yTrain * tf.log(tf.clip_by_value(predictions, 1e-10,1.0)), reduction_indices=[1]))\n",
    "train_step = tf.train.AdamOptimizer(0.001).minimize(cross_entropy)\n",
    "\n",
    "correct_predictions = tf.equal(tf.argmax(predictions, 1), tf.argmax(yTrain, 1))\n",
    "accuracy = tf.reduce_mean(tf.cast(correct_predictions, tf.float32))"
   ]
  },
  {
   "cell_type": "code",
   "execution_count": 66,
   "metadata": {
    "scrolled": true
   },
   "outputs": [
    {
     "name": "stdout",
     "output_type": "stream",
     "text": [
      "After 499 training steps, cross entropy on all train data is 0.443015\n",
      "After 499 training steps, accuracy on all train data is 0.930676\n",
      "After 499 training steps, accuracy on all test data is 0.56778\n",
      "After 999 training steps, cross entropy on all train data is 0.231165\n",
      "After 999 training steps, accuracy on all train data is 0.957828\n",
      "After 999 training steps, accuracy on all test data is 0.605108\n",
      "After 1499 training steps, cross entropy on all train data is 0.163212\n",
      "After 1499 training steps, accuracy on all train data is 0.964183\n",
      "After 1499 training steps, accuracy on all test data is 0.609037\n",
      "After 1999 training steps, cross entropy on all train data is 0.136502\n",
      "After 1999 training steps, accuracy on all train data is 0.973137\n",
      "After 1999 training steps, accuracy on all test data is 0.644401\n",
      "After 2499 training steps, cross entropy on all train data is 0.128072\n",
      "After 2499 training steps, accuracy on all train data is 0.974581\n",
      "After 2499 training steps, accuracy on all test data is 0.652259\n",
      "After 2999 training steps, cross entropy on all train data is 0.119027\n",
      "After 2999 training steps, accuracy on all train data is 0.976603\n",
      "After 2999 training steps, accuracy on all test data is 0.656189\n",
      "After 3499 training steps, cross entropy on all train data is 0.0904303\n",
      "After 3499 training steps, accuracy on all train data is 0.981802\n",
      "After 3499 training steps, accuracy on all test data is 0.6778\n",
      "After 3999 training steps, cross entropy on all train data is 0.0901465\n",
      "After 3999 training steps, accuracy on all train data is 0.983536\n",
      "After 3999 training steps, accuracy on all test data is 0.683694\n",
      "After 4499 training steps, cross entropy on all train data is 0.0635517\n",
      "After 4499 training steps, accuracy on all train data is 0.985557\n",
      "After 4499 training steps, accuracy on all test data is 0.685658\n",
      "After 4999 training steps, cross entropy on all train data is 0.0591968\n",
      "After 4999 training steps, accuracy on all train data is 0.986713\n",
      "After 4999 training steps, accuracy on all test data is 0.687623\n",
      "After 5499 training steps, cross entropy on all train data is 0.0565463\n",
      "After 5499 training steps, accuracy on all train data is 0.987579\n",
      "After 5499 training steps, accuracy on all test data is 0.693517\n",
      "After 5999 training steps, cross entropy on all train data is 0.0544938\n",
      "After 5999 training steps, accuracy on all train data is 0.988157\n",
      "After 5999 training steps, accuracy on all test data is 0.701375\n",
      "After 6499 training steps, cross entropy on all train data is 0.0589237\n",
      "After 6499 training steps, accuracy on all train data is 0.986424\n",
      "After 6499 training steps, accuracy on all test data is 0.695481\n",
      "After 6999 training steps, cross entropy on all train data is 0.0519623\n",
      "After 6999 training steps, accuracy on all train data is 0.988446\n",
      "After 6999 training steps, accuracy on all test data is 0.695481\n",
      "After 7499 training steps, cross entropy on all train data is 0.0507154\n",
      "After 7499 training steps, accuracy on all train data is 0.988735\n",
      "After 7499 training steps, accuracy on all test data is 0.697446\n",
      "After 7999 training steps, cross entropy on all train data is 0.0500489\n",
      "After 7999 training steps, accuracy on all train data is 0.989313\n",
      "After 7999 training steps, accuracy on all test data is 0.697446\n",
      "After 8499 training steps, cross entropy on all train data is 0.0488502\n",
      "After 8499 training steps, accuracy on all train data is 0.988735\n",
      "After 8499 training steps, accuracy on all test data is 0.699411\n",
      "After 8999 training steps, cross entropy on all train data is 0.0473975\n",
      "After 8999 training steps, accuracy on all train data is 0.990179\n",
      "After 8999 training steps, accuracy on all test data is 0.707269\n",
      "After 9499 training steps, cross entropy on all train data is 0.0467238\n",
      "After 9499 training steps, accuracy on all train data is 0.990468\n",
      "After 9499 training steps, accuracy on all test data is 0.709234\n",
      "After 9999 training steps, cross entropy on all train data is 0.0458879\n",
      "After 9999 training steps, accuracy on all train data is 0.990179\n",
      "After 9999 training steps, accuracy on all test data is 0.70334\n",
      "After 10499 training steps, cross entropy on all train data is 0.0451432\n",
      "After 10499 training steps, accuracy on all train data is 0.990468\n",
      "After 10499 training steps, accuracy on all test data is 0.709234\n",
      "After 10999 training steps, cross entropy on all train data is 0.0446942\n",
      "After 10999 training steps, accuracy on all train data is 0.990468\n",
      "After 10999 training steps, accuracy on all test data is 0.713163\n",
      "After 11499 training steps, cross entropy on all train data is 0.0441342\n",
      "After 11499 training steps, accuracy on all train data is 0.991046\n",
      "After 11499 training steps, accuracy on all test data is 0.713163\n",
      "After 11999 training steps, cross entropy on all train data is 0.0435192\n",
      "After 11999 training steps, accuracy on all train data is 0.991623\n",
      "After 11999 training steps, accuracy on all test data is 0.715128\n",
      "After 12499 training steps, cross entropy on all train data is 0.043339\n",
      "After 12499 training steps, accuracy on all train data is 0.991912\n",
      "After 12499 training steps, accuracy on all test data is 0.717092\n",
      "After 12999 training steps, cross entropy on all train data is 0.042983\n",
      "After 12999 training steps, accuracy on all train data is 0.991912\n",
      "After 12999 training steps, accuracy on all test data is 0.717092\n",
      "After 13499 training steps, cross entropy on all train data is 0.0426177\n",
      "After 13499 training steps, accuracy on all train data is 0.991912\n",
      "After 13499 training steps, accuracy on all test data is 0.717092\n",
      "After 13999 training steps, cross entropy on all train data is 0.0425141\n",
      "After 13999 training steps, accuracy on all train data is 0.99249\n",
      "After 13999 training steps, accuracy on all test data is 0.724951\n",
      "After 14499 training steps, cross entropy on all train data is 0.0420625\n",
      "After 14499 training steps, accuracy on all train data is 0.992201\n",
      "After 14499 training steps, accuracy on all test data is 0.721022\n",
      "After 14999 training steps, cross entropy on all train data is 0.0417375\n",
      "After 14999 training steps, accuracy on all train data is 0.992201\n",
      "After 14999 training steps, accuracy on all test data is 0.721022\n",
      "After 15499 training steps, cross entropy on all train data is 0.0415319\n",
      "After 15499 training steps, accuracy on all train data is 0.991912\n",
      "After 15499 training steps, accuracy on all test data is 0.717092\n",
      "After 15999 training steps, cross entropy on all train data is 0.0354875\n",
      "After 15999 training steps, accuracy on all train data is 0.991912\n",
      "After 15999 training steps, accuracy on all test data is 0.726916\n",
      "After 16499 training steps, cross entropy on all train data is 0.0333494\n",
      "After 16499 training steps, accuracy on all train data is 0.991912\n",
      "After 16499 training steps, accuracy on all test data is 0.726916\n",
      "After 16999 training steps, cross entropy on all train data is 0.0317197\n",
      "After 16999 training steps, accuracy on all train data is 0.992201\n",
      "After 16999 training steps, accuracy on all test data is 0.721022\n",
      "After 17499 training steps, cross entropy on all train data is 0.0274636\n",
      "After 17499 training steps, accuracy on all train data is 0.991912\n",
      "After 17499 training steps, accuracy on all test data is 0.715128\n",
      "After 17999 training steps, cross entropy on all train data is 0.0245188\n",
      "After 17999 training steps, accuracy on all train data is 0.993356\n",
      "After 17999 training steps, accuracy on all test data is 0.722986\n",
      "After 18499 training steps, cross entropy on all train data is 0.0233873\n",
      "After 18499 training steps, accuracy on all train data is 0.993356\n",
      "After 18499 training steps, accuracy on all test data is 0.721022\n",
      "After 18999 training steps, cross entropy on all train data is 0.02303\n",
      "After 18999 training steps, accuracy on all train data is 0.993356\n",
      "After 18999 training steps, accuracy on all test data is 0.717092\n",
      "After 19499 training steps, cross entropy on all train data is 0.0225228\n",
      "After 19499 training steps, accuracy on all train data is 0.993356\n",
      "After 19499 training steps, accuracy on all test data is 0.717092\n",
      "After 19999 training steps, cross entropy on all train data is 0.0220161\n",
      "After 19999 training steps, accuracy on all train data is 0.993356\n",
      "After 19999 training steps, accuracy on all test data is 0.715128\n",
      "After 20499 training steps, cross entropy on all train data is 0.0218597\n",
      "After 20499 training steps, accuracy on all train data is 0.993068\n",
      "After 20499 training steps, accuracy on all test data is 0.711198\n"
     ]
    },
    {
     "name": "stdout",
     "output_type": "stream",
     "text": [
      "After 20999 training steps, cross entropy on all train data is 0.0214083\n",
      "After 20999 training steps, accuracy on all train data is 0.993068\n",
      "After 20999 training steps, accuracy on all test data is 0.711198\n",
      "After 21499 training steps, cross entropy on all train data is 0.0210246\n",
      "After 21499 training steps, accuracy on all train data is 0.993356\n",
      "After 21499 training steps, accuracy on all test data is 0.715128\n",
      "After 21999 training steps, cross entropy on all train data is 0.0206081\n",
      "After 21999 training steps, accuracy on all train data is 0.993645\n",
      "After 21999 training steps, accuracy on all test data is 0.717092\n",
      "After 22499 training steps, cross entropy on all train data is 0.0231435\n",
      "After 22499 training steps, accuracy on all train data is 0.993068\n",
      "After 22499 training steps, accuracy on all test data is 0.715128\n",
      "After 22999 training steps, cross entropy on all train data is 0.0225243\n",
      "After 22999 training steps, accuracy on all train data is 0.993068\n",
      "After 22999 training steps, accuracy on all test data is 0.713163\n",
      "After 23499 training steps, cross entropy on all train data is 0.0220391\n",
      "After 23499 training steps, accuracy on all train data is 0.993068\n",
      "After 23499 training steps, accuracy on all test data is 0.711198\n",
      "After 23999 training steps, cross entropy on all train data is 0.021477\n",
      "After 23999 training steps, accuracy on all train data is 0.993068\n",
      "After 23999 training steps, accuracy on all test data is 0.711198\n",
      "After 24499 training steps, cross entropy on all train data is 0.0213467\n",
      "After 24499 training steps, accuracy on all train data is 0.993068\n",
      "After 24499 training steps, accuracy on all test data is 0.711198\n",
      "After 24999 training steps, cross entropy on all train data is 0.0209495\n",
      "After 24999 training steps, accuracy on all train data is 0.993068\n",
      "After 24999 training steps, accuracy on all test data is 0.713163\n",
      "After 25499 training steps, cross entropy on all train data is 0.02057\n",
      "After 25499 training steps, accuracy on all train data is 0.993068\n",
      "After 25499 training steps, accuracy on all test data is 0.713163\n",
      "After 25999 training steps, cross entropy on all train data is 0.0201816\n",
      "After 25999 training steps, accuracy on all train data is 0.992779\n",
      "After 25999 training steps, accuracy on all test data is 0.711198\n",
      "After 26499 training steps, cross entropy on all train data is 0.0192014\n",
      "After 26499 training steps, accuracy on all train data is 0.993068\n",
      "After 26499 training steps, accuracy on all test data is 0.713163\n",
      "After 26999 training steps, cross entropy on all train data is 0.0188522\n",
      "After 26999 training steps, accuracy on all train data is 0.993068\n",
      "After 26999 training steps, accuracy on all test data is 0.713163\n",
      "After 27499 training steps, cross entropy on all train data is 0.0185649\n",
      "After 27499 training steps, accuracy on all train data is 0.993068\n",
      "After 27499 training steps, accuracy on all test data is 0.713163\n",
      "After 27999 training steps, cross entropy on all train data is 0.018274\n",
      "After 27999 training steps, accuracy on all train data is 0.993068\n",
      "After 27999 training steps, accuracy on all test data is 0.713163\n",
      "After 28499 training steps, cross entropy on all train data is 0.0183184\n",
      "After 28499 training steps, accuracy on all train data is 0.993068\n",
      "After 28499 training steps, accuracy on all test data is 0.717092\n",
      "After 28999 training steps, cross entropy on all train data is 0.0180596\n",
      "After 28999 training steps, accuracy on all train data is 0.993068\n",
      "After 28999 training steps, accuracy on all test data is 0.715128\n",
      "After 29499 training steps, cross entropy on all train data is 0.0178541\n",
      "After 29499 training steps, accuracy on all train data is 0.993068\n",
      "After 29499 training steps, accuracy on all test data is 0.719057\n",
      "After 29999 training steps, cross entropy on all train data is 0.0176298\n",
      "After 29999 training steps, accuracy on all train data is 0.993068\n",
      "After 29999 training steps, accuracy on all test data is 0.717092\n",
      "After 30499 training steps, cross entropy on all train data is 0.0177269\n",
      "After 30499 training steps, accuracy on all train data is 0.993356\n",
      "After 30499 training steps, accuracy on all test data is 0.721022\n",
      "After 30999 training steps, cross entropy on all train data is 0.0174563\n",
      "After 30999 training steps, accuracy on all train data is 0.993068\n",
      "After 30999 training steps, accuracy on all test data is 0.715128\n",
      "After 31499 training steps, cross entropy on all train data is 0.0172723\n",
      "After 31499 training steps, accuracy on all train data is 0.993068\n",
      "After 31499 training steps, accuracy on all test data is 0.717092\n",
      "After 31999 training steps, cross entropy on all train data is 0.0170745\n",
      "After 31999 training steps, accuracy on all train data is 0.993356\n",
      "After 31999 training steps, accuracy on all test data is 0.721022\n",
      "After 32499 training steps, cross entropy on all train data is 0.0185281\n",
      "After 32499 training steps, accuracy on all train data is 0.993934\n",
      "After 32499 training steps, accuracy on all test data is 0.721022\n",
      "After 32999 training steps, cross entropy on all train data is 0.0178911\n",
      "After 32999 training steps, accuracy on all train data is 0.993356\n",
      "After 32999 training steps, accuracy on all test data is 0.717092\n",
      "After 33499 training steps, cross entropy on all train data is 0.0176087\n",
      "After 33499 training steps, accuracy on all train data is 0.993356\n",
      "After 33499 training steps, accuracy on all test data is 0.717092\n",
      "After 33999 training steps, cross entropy on all train data is 0.0173751\n",
      "After 33999 training steps, accuracy on all train data is 0.993356\n",
      "After 33999 training steps, accuracy on all test data is 0.719057\n",
      "After 34499 training steps, cross entropy on all train data is 0.0171526\n",
      "After 34499 training steps, accuracy on all train data is 0.993645\n",
      "After 34499 training steps, accuracy on all test data is 0.721022\n",
      "After 34999 training steps, cross entropy on all train data is 0.0171772\n",
      "After 34999 training steps, accuracy on all train data is 0.993645\n",
      "After 34999 training steps, accuracy on all test data is 0.719057\n",
      "After 35499 training steps, cross entropy on all train data is 0.0169599\n",
      "After 35499 training steps, accuracy on all train data is 0.993645\n",
      "After 35499 training steps, accuracy on all test data is 0.721022\n",
      "After 35999 training steps, cross entropy on all train data is 0.0167845\n",
      "After 35999 training steps, accuracy on all train data is 0.994223\n",
      "After 35999 training steps, accuracy on all test data is 0.722986\n",
      "After 36499 training steps, cross entropy on all train data is 0.0166012\n",
      "After 36499 training steps, accuracy on all train data is 0.994223\n",
      "After 36499 training steps, accuracy on all test data is 0.724951\n",
      "After 36999 training steps, cross entropy on all train data is 0.0167729\n",
      "After 36999 training steps, accuracy on all train data is 0.993934\n",
      "After 36999 training steps, accuracy on all test data is 0.721022\n",
      "After 37499 training steps, cross entropy on all train data is 0.0164709\n",
      "After 37499 training steps, accuracy on all train data is 0.994512\n",
      "After 37499 training steps, accuracy on all test data is 0.719057\n",
      "After 37999 training steps, cross entropy on all train data is 0.0162776\n",
      "After 37999 training steps, accuracy on all train data is 0.994512\n",
      "After 37999 training steps, accuracy on all test data is 0.721022\n",
      "After 38499 training steps, cross entropy on all train data is 0.0161007\n",
      "After 38499 training steps, accuracy on all train data is 0.994512\n",
      "After 38499 training steps, accuracy on all test data is 0.719057\n",
      "After 38999 training steps, cross entropy on all train data is 0.0511469\n",
      "After 38999 training steps, accuracy on all train data is 0.979492\n",
      "After 38999 training steps, accuracy on all test data is 0.683694\n",
      "After 39499 training steps, cross entropy on all train data is 0.0160283\n",
      "After 39499 training steps, accuracy on all train data is 0.994512\n",
      "After 39499 training steps, accuracy on all test data is 0.719057\n",
      "After 39999 training steps, cross entropy on all train data is 0.0158344\n",
      "After 39999 training steps, accuracy on all train data is 0.994512\n",
      "After 39999 training steps, accuracy on all test data is 0.717092\n",
      "After 40499 training steps, cross entropy on all train data is 0.015682\n",
      "After 40499 training steps, accuracy on all train data is 0.994512\n",
      "After 40499 training steps, accuracy on all test data is 0.717092\n"
     ]
    },
    {
     "name": "stdout",
     "output_type": "stream",
     "text": [
      "After 40999 training steps, cross entropy on all train data is 0.0155249\n",
      "After 40999 training steps, accuracy on all train data is 0.994512\n",
      "After 40999 training steps, accuracy on all test data is 0.719057\n",
      "After 41499 training steps, cross entropy on all train data is 0.0158233\n",
      "After 41499 training steps, accuracy on all train data is 0.994801\n",
      "After 41499 training steps, accuracy on all test data is 0.719057\n",
      "After 41999 training steps, cross entropy on all train data is 0.015528\n",
      "After 41999 training steps, accuracy on all train data is 0.994801\n",
      "After 41999 training steps, accuracy on all test data is 0.713163\n",
      "After 42499 training steps, cross entropy on all train data is 0.0153643\n",
      "After 42499 training steps, accuracy on all train data is 0.994801\n",
      "After 42499 training steps, accuracy on all test data is 0.717092\n",
      "After 42999 training steps, cross entropy on all train data is 0.0151966\n",
      "After 42999 training steps, accuracy on all train data is 0.994801\n",
      "After 42999 training steps, accuracy on all test data is 0.717092\n",
      "After 43499 training steps, cross entropy on all train data is 0.0150506\n",
      "After 43499 training steps, accuracy on all train data is 0.994801\n",
      "After 43499 training steps, accuracy on all test data is 0.719057\n",
      "After 43999 training steps, cross entropy on all train data is 0.0153736\n",
      "After 43999 training steps, accuracy on all train data is 0.99509\n",
      "After 43999 training steps, accuracy on all test data is 0.715128\n",
      "After 44499 training steps, cross entropy on all train data is 0.01511\n",
      "After 44499 training steps, accuracy on all train data is 0.99509\n",
      "After 44499 training steps, accuracy on all test data is 0.713163\n",
      "After 44999 training steps, cross entropy on all train data is 0.0149413\n",
      "After 44999 training steps, accuracy on all train data is 0.99509\n",
      "After 44999 training steps, accuracy on all test data is 0.713163\n",
      "After 45499 training steps, cross entropy on all train data is 0.0148007\n",
      "After 45499 training steps, accuracy on all train data is 0.99509\n",
      "After 45499 training steps, accuracy on all test data is 0.713163\n",
      "After 45999 training steps, cross entropy on all train data is 0.0146684\n",
      "After 45999 training steps, accuracy on all train data is 0.99509\n",
      "After 45999 training steps, accuracy on all test data is 0.717092\n",
      "After 46499 training steps, cross entropy on all train data is 0.0151219\n",
      "After 46499 training steps, accuracy on all train data is 0.99509\n",
      "After 46499 training steps, accuracy on all test data is 0.717092\n",
      "After 46999 training steps, cross entropy on all train data is 0.0148151\n",
      "After 46999 training steps, accuracy on all train data is 0.99509\n",
      "After 46999 training steps, accuracy on all test data is 0.715128\n",
      "After 47499 training steps, cross entropy on all train data is 0.0146367\n",
      "After 47499 training steps, accuracy on all train data is 0.99509\n",
      "After 47499 training steps, accuracy on all test data is 0.713163\n",
      "After 47999 training steps, cross entropy on all train data is 0.0144852\n",
      "After 47999 training steps, accuracy on all train data is 0.99509\n",
      "After 47999 training steps, accuracy on all test data is 0.713163\n",
      "After 48499 training steps, cross entropy on all train data is 0.0143561\n",
      "After 48499 training steps, accuracy on all train data is 0.99509\n",
      "After 48499 training steps, accuracy on all test data is 0.713163\n",
      "After 48999 training steps, cross entropy on all train data is 0.0145266\n",
      "After 48999 training steps, accuracy on all train data is 0.99509\n",
      "After 48999 training steps, accuracy on all test data is 0.721022\n",
      "After 49499 training steps, cross entropy on all train data is 0.014229\n",
      "After 49499 training steps, accuracy on all train data is 0.99509\n",
      "After 49499 training steps, accuracy on all test data is 0.717092\n",
      "After 49999 training steps, cross entropy on all train data is 0.0140615\n",
      "After 49999 training steps, accuracy on all train data is 0.99509\n",
      "After 49999 training steps, accuracy on all test data is 0.719057\n"
     ]
    }
   ],
   "source": [
    "# batch_size = 10\n",
    "Steps = 50000\n",
    "lossup = []\n",
    "# start = (i*batch_size)%1000\n",
    "# end = min(start+batch_size, 1000)\n",
    "\n",
    "init = tf.global_variables_initializer()\n",
    "with tf.Session() as sess:\n",
    "    sess.run(init)\n",
    "    for i in range(Steps):\n",
    "        \n",
    "        sess.run(train_step, feed_dict={ xTrain:x_up_train, yTrain:y_up_train})\n",
    "        lossup.append(sess.run(cross_entropy, feed_dict={xTrain:x_down_train, yTrain:y_down_train}))\n",
    "        \n",
    "        if (i+1) % 500==0:\n",
    "            total_cross_entropy = sess.run(cross_entropy, feed_dict={xTrain:x_up_train, yTrain:y_up_train})\n",
    "            print('After %d training steps, cross entropy on all train data is %g' % (i, total_cross_entropy))\n",
    "            total_train_accuracy = sess.run(accuracy, feed_dict={xTrain:x_up_train, yTrain:y_up_train})\n",
    "            print('After %d training steps, accuracy on all train data is %g' % (i, total_train_accuracy))\n",
    "            total_test_accuracy = sess.run(accuracy, feed_dict={xTrain:x_up_test, yTrain:y_up_test})\n",
    "            print('After %d training steps, accuracy on all test data is %g' % (i, total_test_accuracy))"
   ]
  },
  {
   "cell_type": "code",
   "execution_count": 67,
   "metadata": {
    "scrolled": true
   },
   "outputs": [
    {
     "name": "stdout",
     "output_type": "stream",
     "text": [
      "After 499 training steps, cross entropy on all train data is 3.51754\n",
      "After 499 training steps, accuracy on all train data is 0.817976\n",
      "After 499 training steps, accuracy on all test data is 0.584521\n",
      "After 999 training steps, cross entropy on all train data is 0.417077\n",
      "After 999 training steps, accuracy on all train data is 0.955625\n",
      "After 999 training steps, accuracy on all test data is 0.655804\n",
      "After 1499 training steps, cross entropy on all train data is 0.380236\n",
      "After 1499 training steps, accuracy on all train data is 0.959582\n",
      "After 1499 training steps, accuracy on all test data is 0.663951\n",
      "After 1999 training steps, cross entropy on all train data is 0.352819\n",
      "After 1999 training steps, accuracy on all train data is 0.964104\n",
      "After 1999 training steps, accuracy on all test data is 0.670061\n",
      "After 2499 training steps, cross entropy on all train data is 0.343169\n",
      "After 2499 training steps, accuracy on all train data is 0.966083\n",
      "After 2499 training steps, accuracy on all test data is 0.684318\n",
      "After 2999 training steps, cross entropy on all train data is 0.335154\n",
      "After 2999 training steps, accuracy on all train data is 0.966365\n",
      "After 2999 training steps, accuracy on all test data is 0.694501\n",
      "After 3499 training steps, cross entropy on all train data is 0.322144\n",
      "After 3499 training steps, accuracy on all train data is 0.969192\n",
      "After 3499 training steps, accuracy on all test data is 0.700611\n",
      "After 3999 training steps, cross entropy on all train data is 0.318793\n",
      "After 3999 training steps, accuracy on all train data is 0.969192\n",
      "After 3999 training steps, accuracy on all test data is 0.702648\n",
      "After 4499 training steps, cross entropy on all train data is 0.294018\n",
      "After 4499 training steps, accuracy on all train data is 0.970322\n",
      "After 4499 training steps, accuracy on all test data is 0.700611\n",
      "After 4999 training steps, cross entropy on all train data is 0.287109\n",
      "After 4999 training steps, accuracy on all train data is 0.972583\n",
      "After 4999 training steps, accuracy on all test data is 0.708758\n",
      "After 5499 training steps, cross entropy on all train data is 0.284444\n",
      "After 5499 training steps, accuracy on all train data is 0.973431\n",
      "After 5499 training steps, accuracy on all test data is 0.720978\n",
      "After 5999 training steps, cross entropy on all train data is 0.242265\n",
      "After 5999 training steps, accuracy on all train data is 0.974279\n",
      "After 5999 training steps, accuracy on all test data is 0.710794\n",
      "After 6499 training steps, cross entropy on all train data is 0.231061\n",
      "After 6499 training steps, accuracy on all train data is 0.974845\n",
      "After 6499 training steps, accuracy on all test data is 0.704684\n",
      "After 6999 training steps, cross entropy on all train data is 0.205131\n",
      "After 6999 training steps, accuracy on all train data is 0.968626\n",
      "After 6999 training steps, accuracy on all test data is 0.682281\n",
      "After 7499 training steps, cross entropy on all train data is 0.179298\n",
      "After 7499 training steps, accuracy on all train data is 0.977388\n",
      "After 7499 training steps, accuracy on all test data is 0.692464\n",
      "After 7999 training steps, cross entropy on all train data is 0.173438\n",
      "After 7999 training steps, accuracy on all train data is 0.976823\n",
      "After 7999 training steps, accuracy on all test data is 0.706721\n",
      "After 8499 training steps, cross entropy on all train data is 0.167732\n",
      "After 8499 training steps, accuracy on all train data is 0.978519\n",
      "After 8499 training steps, accuracy on all test data is 0.704684\n",
      "After 8999 training steps, cross entropy on all train data is 0.165982\n",
      "After 8999 training steps, accuracy on all train data is 0.97965\n",
      "After 8999 training steps, accuracy on all test data is 0.714868\n",
      "After 9499 training steps, cross entropy on all train data is 0.165059\n",
      "After 9499 training steps, accuracy on all train data is 0.97965\n",
      "After 9499 training steps, accuracy on all test data is 0.712831\n",
      "After 9999 training steps, cross entropy on all train data is 0.163789\n",
      "After 9999 training steps, accuracy on all train data is 0.980497\n",
      "After 9999 training steps, accuracy on all test data is 0.712831\n",
      "After 10499 training steps, cross entropy on all train data is 0.156366\n",
      "After 10499 training steps, accuracy on all train data is 0.981628\n",
      "After 10499 training steps, accuracy on all test data is 0.710794\n",
      "After 10999 training steps, cross entropy on all train data is 0.21797\n",
      "After 10999 training steps, accuracy on all train data is 0.959016\n",
      "After 10999 training steps, accuracy on all test data is 0.635438\n",
      "After 11499 training steps, cross entropy on all train data is 0.248358\n",
      "After 11499 training steps, accuracy on all train data is 0.95082\n",
      "After 11499 training steps, accuracy on all test data is 0.608961\n",
      "After 11999 training steps, cross entropy on all train data is 0.143803\n",
      "After 11999 training steps, accuracy on all train data is 0.981628\n",
      "After 11999 training steps, accuracy on all test data is 0.725051\n",
      "After 12499 training steps, cross entropy on all train data is 0.136701\n",
      "After 12499 training steps, accuracy on all train data is 0.981911\n",
      "After 12499 training steps, accuracy on all test data is 0.731161\n",
      "After 12999 training steps, cross entropy on all train data is 0.134701\n",
      "After 12999 training steps, accuracy on all train data is 0.982193\n",
      "After 12999 training steps, accuracy on all test data is 0.731161\n",
      "After 13499 training steps, cross entropy on all train data is 0.133676\n",
      "After 13499 training steps, accuracy on all train data is 0.983889\n",
      "After 13499 training steps, accuracy on all test data is 0.733198\n",
      "After 13999 training steps, cross entropy on all train data is 0.13262\n",
      "After 13999 training steps, accuracy on all train data is 0.983889\n",
      "After 13999 training steps, accuracy on all test data is 0.745418\n",
      "After 14499 training steps, cross entropy on all train data is 0.137585\n",
      "After 14499 training steps, accuracy on all train data is 0.979367\n",
      "After 14499 training steps, accuracy on all test data is 0.710794\n",
      "After 14999 training steps, cross entropy on all train data is 0.131172\n",
      "After 14999 training steps, accuracy on all train data is 0.983607\n",
      "After 14999 training steps, accuracy on all test data is 0.735234\n",
      "After 15499 training steps, cross entropy on all train data is 0.130529\n",
      "After 15499 training steps, accuracy on all train data is 0.984172\n",
      "After 15499 training steps, accuracy on all test data is 0.739308\n",
      "After 15999 training steps, cross entropy on all train data is 0.13002\n",
      "After 15999 training steps, accuracy on all train data is 0.984172\n",
      "After 15999 training steps, accuracy on all test data is 0.737271\n",
      "After 16499 training steps, cross entropy on all train data is 0.129492\n",
      "After 16499 training steps, accuracy on all train data is 0.983889\n",
      "After 16499 training steps, accuracy on all test data is 0.735234\n",
      "After 16999 training steps, cross entropy on all train data is 0.129099\n",
      "After 16999 training steps, accuracy on all train data is 0.984172\n",
      "After 16999 training steps, accuracy on all test data is 0.733198\n",
      "After 17499 training steps, cross entropy on all train data is 0.128124\n",
      "After 17499 training steps, accuracy on all train data is 0.984455\n",
      "After 17499 training steps, accuracy on all test data is 0.735234\n",
      "After 17999 training steps, cross entropy on all train data is 0.12763\n",
      "After 17999 training steps, accuracy on all train data is 0.984737\n",
      "After 17999 training steps, accuracy on all test data is 0.735234\n",
      "After 18499 training steps, cross entropy on all train data is 0.127223\n",
      "After 18499 training steps, accuracy on all train data is 0.98502\n",
      "After 18499 training steps, accuracy on all test data is 0.735234\n",
      "After 18999 training steps, cross entropy on all train data is 0.126949\n",
      "After 18999 training steps, accuracy on all train data is 0.985302\n",
      "After 18999 training steps, accuracy on all test data is 0.735234\n",
      "After 19499 training steps, cross entropy on all train data is 0.126547\n",
      "After 19499 training steps, accuracy on all train data is 0.985585\n",
      "After 19499 training steps, accuracy on all test data is 0.739308\n",
      "After 19999 training steps, cross entropy on all train data is 0.128142\n",
      "After 19999 training steps, accuracy on all train data is 0.985302\n",
      "After 19999 training steps, accuracy on all test data is 0.737271\n",
      "After 20499 training steps, cross entropy on all train data is 0.126\n",
      "After 20499 training steps, accuracy on all train data is 0.985585\n",
      "After 20499 training steps, accuracy on all test data is 0.737271\n"
     ]
    },
    {
     "name": "stdout",
     "output_type": "stream",
     "text": [
      "After 20999 training steps, cross entropy on all train data is 0.129285\n",
      "After 20999 training steps, accuracy on all train data is 0.984172\n",
      "After 20999 training steps, accuracy on all test data is 0.718941\n",
      "After 21499 training steps, cross entropy on all train data is 0.125472\n",
      "After 21499 training steps, accuracy on all train data is 0.985868\n",
      "After 21499 training steps, accuracy on all test data is 0.731161\n",
      "After 21999 training steps, cross entropy on all train data is 0.125472\n",
      "After 21999 training steps, accuracy on all train data is 0.985585\n",
      "After 21999 training steps, accuracy on all test data is 0.731161\n",
      "After 22499 training steps, cross entropy on all train data is 0.125009\n",
      "After 22499 training steps, accuracy on all train data is 0.985868\n",
      "After 22499 training steps, accuracy on all test data is 0.731161\n",
      "After 22999 training steps, cross entropy on all train data is 0.125027\n",
      "After 22999 training steps, accuracy on all train data is 0.985585\n",
      "After 22999 training steps, accuracy on all test data is 0.731161\n",
      "After 23499 training steps, cross entropy on all train data is 0.124546\n",
      "After 23499 training steps, accuracy on all train data is 0.985868\n",
      "After 23499 training steps, accuracy on all test data is 0.729124\n",
      "After 23999 training steps, cross entropy on all train data is 0.124335\n",
      "After 23999 training steps, accuracy on all train data is 0.985868\n",
      "After 23999 training steps, accuracy on all test data is 0.731161\n",
      "After 24499 training steps, cross entropy on all train data is 0.124115\n",
      "After 24499 training steps, accuracy on all train data is 0.985868\n",
      "After 24499 training steps, accuracy on all test data is 0.731161\n",
      "After 24999 training steps, cross entropy on all train data is 0.117709\n",
      "After 24999 training steps, accuracy on all train data is 0.985868\n",
      "After 24999 training steps, accuracy on all test data is 0.727088\n",
      "After 25499 training steps, cross entropy on all train data is 0.11725\n",
      "After 25499 training steps, accuracy on all train data is 0.98615\n",
      "After 25499 training steps, accuracy on all test data is 0.729124\n",
      "After 25999 training steps, cross entropy on all train data is 0.117204\n",
      "After 25999 training steps, accuracy on all train data is 0.985868\n",
      "After 25999 training steps, accuracy on all test data is 0.727088\n",
      "After 26499 training steps, cross entropy on all train data is 0.143006\n",
      "After 26499 training steps, accuracy on all train data is 0.976823\n",
      "After 26499 training steps, accuracy on all test data is 0.698574\n",
      "After 26999 training steps, cross entropy on all train data is 0.116725\n",
      "After 26999 training steps, accuracy on all train data is 0.98615\n",
      "After 26999 training steps, accuracy on all test data is 0.731161\n",
      "After 27499 training steps, cross entropy on all train data is 0.116756\n",
      "After 27499 training steps, accuracy on all train data is 0.985868\n",
      "After 27499 training steps, accuracy on all test data is 0.727088\n",
      "After 27999 training steps, cross entropy on all train data is 0.116441\n",
      "After 27999 training steps, accuracy on all train data is 0.986433\n",
      "After 27999 training steps, accuracy on all test data is 0.735234\n",
      "After 28499 training steps, cross entropy on all train data is 0.110323\n",
      "After 28499 training steps, accuracy on all train data is 0.98615\n",
      "After 28499 training steps, accuracy on all test data is 0.729124\n",
      "After 28999 training steps, cross entropy on all train data is 0.109639\n",
      "After 28999 training steps, accuracy on all train data is 0.986716\n",
      "After 28999 training steps, accuracy on all test data is 0.735234\n",
      "After 29499 training steps, cross entropy on all train data is 0.129863\n",
      "After 29499 training steps, accuracy on all train data is 0.97965\n",
      "After 29499 training steps, accuracy on all test data is 0.710794\n",
      "After 29999 training steps, cross entropy on all train data is 0.10936\n",
      "After 29999 training steps, accuracy on all train data is 0.986716\n",
      "After 29999 training steps, accuracy on all test data is 0.733198\n",
      "After 30499 training steps, cross entropy on all train data is 0.109148\n",
      "After 30499 training steps, accuracy on all train data is 0.986998\n",
      "After 30499 training steps, accuracy on all test data is 0.735234\n",
      "After 30999 training steps, cross entropy on all train data is 0.0961723\n",
      "After 30999 training steps, accuracy on all train data is 0.987281\n",
      "After 30999 training steps, accuracy on all test data is 0.733198\n",
      "After 31499 training steps, cross entropy on all train data is 0.115948\n",
      "After 31499 training steps, accuracy on all train data is 0.980215\n",
      "After 31499 training steps, accuracy on all test data is 0.714868\n",
      "After 31999 training steps, cross entropy on all train data is 0.0958496\n",
      "After 31999 training steps, accuracy on all train data is 0.987564\n",
      "After 31999 training steps, accuracy on all test data is 0.735234\n",
      "After 32499 training steps, cross entropy on all train data is 0.109884\n",
      "After 32499 training steps, accuracy on all train data is 0.981345\n",
      "After 32499 training steps, accuracy on all test data is 0.720978\n",
      "After 32999 training steps, cross entropy on all train data is 0.0956132\n",
      "After 32999 training steps, accuracy on all train data is 0.987281\n",
      "After 32999 training steps, accuracy on all test data is 0.731161\n",
      "After 33499 training steps, cross entropy on all train data is 0.125078\n",
      "After 33499 training steps, accuracy on all train data is 0.975693\n",
      "After 33499 training steps, accuracy on all test data is 0.714868\n",
      "After 33999 training steps, cross entropy on all train data is 0.0953752\n",
      "After 33999 training steps, accuracy on all train data is 0.987564\n",
      "After 33999 training steps, accuracy on all test data is 0.735234\n",
      "After 34499 training steps, cross entropy on all train data is 0.0952031\n",
      "After 34499 training steps, accuracy on all train data is 0.987564\n",
      "After 34499 training steps, accuracy on all test data is 0.741344\n",
      "After 34999 training steps, cross entropy on all train data is 0.0951658\n",
      "After 34999 training steps, accuracy on all train data is 0.987846\n",
      "After 34999 training steps, accuracy on all test data is 0.741344\n",
      "After 35499 training steps, cross entropy on all train data is 0.0949631\n",
      "After 35499 training steps, accuracy on all train data is 0.987846\n",
      "After 35499 training steps, accuracy on all test data is 0.743381\n",
      "After 35999 training steps, cross entropy on all train data is 0.0948942\n",
      "After 35999 training steps, accuracy on all train data is 0.987846\n",
      "After 35999 training steps, accuracy on all test data is 0.743381\n",
      "After 36499 training steps, cross entropy on all train data is 0.102033\n",
      "After 36499 training steps, accuracy on all train data is 0.985868\n",
      "After 36499 training steps, accuracy on all test data is 0.737271\n",
      "After 36999 training steps, cross entropy on all train data is 0.0947164\n",
      "After 36999 training steps, accuracy on all train data is 0.988129\n",
      "After 36999 training steps, accuracy on all test data is 0.743381\n",
      "After 37499 training steps, cross entropy on all train data is 0.123302\n",
      "After 37499 training steps, accuracy on all train data is 0.977671\n",
      "After 37499 training steps, accuracy on all test data is 0.720978\n",
      "After 37999 training steps, cross entropy on all train data is 0.0946517\n",
      "After 37999 training steps, accuracy on all train data is 0.987846\n",
      "After 37999 training steps, accuracy on all test data is 0.743381\n",
      "After 38499 training steps, cross entropy on all train data is 0.0944159\n",
      "After 38499 training steps, accuracy on all train data is 0.988129\n",
      "After 38499 training steps, accuracy on all test data is 0.745418\n",
      "After 38999 training steps, cross entropy on all train data is 0.0943116\n",
      "After 38999 training steps, accuracy on all train data is 0.988412\n",
      "After 38999 training steps, accuracy on all test data is 0.745418\n",
      "After 39499 training steps, cross entropy on all train data is 0.0944145\n",
      "After 39499 training steps, accuracy on all train data is 0.988129\n",
      "After 39499 training steps, accuracy on all test data is 0.743381\n",
      "After 39999 training steps, cross entropy on all train data is 0.0941695\n",
      "After 39999 training steps, accuracy on all train data is 0.988412\n",
      "After 39999 training steps, accuracy on all test data is 0.745418\n",
      "After 40499 training steps, cross entropy on all train data is 0.0945857\n",
      "After 40499 training steps, accuracy on all train data is 0.988412\n",
      "After 40499 training steps, accuracy on all test data is 0.745418\n"
     ]
    },
    {
     "name": "stdout",
     "output_type": "stream",
     "text": [
      "After 40999 training steps, cross entropy on all train data is 0.0940507\n",
      "After 40999 training steps, accuracy on all train data is 0.988412\n",
      "After 40999 training steps, accuracy on all test data is 0.745418\n",
      "After 41499 training steps, cross entropy on all train data is 0.0939016\n",
      "After 41499 training steps, accuracy on all train data is 0.988694\n",
      "After 41499 training steps, accuracy on all test data is 0.747454\n",
      "After 41999 training steps, cross entropy on all train data is 0.093861\n",
      "After 41999 training steps, accuracy on all train data is 0.988412\n",
      "After 41999 training steps, accuracy on all test data is 0.745418\n",
      "After 42499 training steps, cross entropy on all train data is 0.105694\n",
      "After 42499 training steps, accuracy on all train data is 0.983607\n",
      "After 42499 training steps, accuracy on all test data is 0.729124\n",
      "After 42999 training steps, cross entropy on all train data is 0.0937497\n",
      "After 42999 training steps, accuracy on all train data is 0.988694\n",
      "After 42999 training steps, accuracy on all test data is 0.747454\n",
      "After 43499 training steps, cross entropy on all train data is 0.0935637\n",
      "After 43499 training steps, accuracy on all train data is 0.988977\n",
      "After 43499 training steps, accuracy on all test data is 0.749491\n",
      "After 43999 training steps, cross entropy on all train data is 0.0935972\n",
      "After 43999 training steps, accuracy on all train data is 0.988694\n",
      "After 43999 training steps, accuracy on all test data is 0.747454\n",
      "After 44499 training steps, cross entropy on all train data is 0.0934149\n",
      "After 44499 training steps, accuracy on all train data is 0.988977\n",
      "After 44499 training steps, accuracy on all test data is 0.749491\n",
      "After 44999 training steps, cross entropy on all train data is 0.0934856\n",
      "After 44999 training steps, accuracy on all train data is 0.988694\n",
      "After 44999 training steps, accuracy on all test data is 0.745418\n",
      "After 45499 training steps, cross entropy on all train data is 0.0932607\n",
      "After 45499 training steps, accuracy on all train data is 0.988977\n",
      "After 45499 training steps, accuracy on all test data is 0.749491\n",
      "After 45999 training steps, cross entropy on all train data is 0.0934647\n",
      "After 45999 training steps, accuracy on all train data is 0.988412\n",
      "After 45999 training steps, accuracy on all test data is 0.751527\n",
      "After 46499 training steps, cross entropy on all train data is 0.0931281\n",
      "After 46499 training steps, accuracy on all train data is 0.988977\n",
      "After 46499 training steps, accuracy on all test data is 0.749491\n",
      "After 46999 training steps, cross entropy on all train data is 0.0965367\n",
      "After 46999 training steps, accuracy on all train data is 0.987281\n",
      "After 46999 training steps, accuracy on all test data is 0.745418\n",
      "After 47499 training steps, cross entropy on all train data is 0.0929983\n",
      "After 47499 training steps, accuracy on all train data is 0.988977\n",
      "After 47499 training steps, accuracy on all test data is 0.747454\n",
      "After 47999 training steps, cross entropy on all train data is 0.0928653\n",
      "After 47999 training steps, accuracy on all train data is 0.988977\n",
      "After 47999 training steps, accuracy on all test data is 0.749491\n",
      "After 48499 training steps, cross entropy on all train data is 0.0929148\n",
      "After 48499 training steps, accuracy on all train data is 0.988977\n",
      "After 48499 training steps, accuracy on all test data is 0.749491\n",
      "After 48999 training steps, cross entropy on all train data is 0.0927683\n",
      "After 48999 training steps, accuracy on all train data is 0.988977\n",
      "After 48999 training steps, accuracy on all test data is 0.747454\n",
      "After 49499 training steps, cross entropy on all train data is 0.0928114\n",
      "After 49499 training steps, accuracy on all train data is 0.988977\n",
      "After 49499 training steps, accuracy on all test data is 0.747454\n",
      "After 49999 training steps, cross entropy on all train data is 0.0926346\n",
      "After 49999 training steps, accuracy on all train data is 0.988977\n",
      "After 49999 training steps, accuracy on all test data is 0.745418\n"
     ]
    }
   ],
   "source": [
    "# batch_size = 10\n",
    "Steps = 50000\n",
    "lossdown = []\n",
    "# start = (i*batch_size)%1000\n",
    "# end = min(start+batch_size, 1000)\n",
    "\n",
    "init = tf.global_variables_initializer()\n",
    "with tf.Session() as sess:\n",
    "    sess.run(init)\n",
    "    for i in range(Steps):\n",
    "        \n",
    "        sess.run(train_step, feed_dict={ xTrain:x_down_train, yTrain:y_down_train})\n",
    "        lossdown.append(sess.run(cross_entropy, feed_dict={xTrain:x_down_train, yTrain:y_down_train}))\n",
    "        \n",
    "        if (i+1) % 500==0:\n",
    "            total_cross_entropy = sess.run(cross_entropy, feed_dict={xTrain:x_down_train, yTrain:y_down_train})\n",
    "            print('After %d training steps, cross entropy on all train data is %g' % (i, total_cross_entropy))\n",
    "            total_train_accuracy = sess.run(accuracy, feed_dict={xTrain:x_down_train, yTrain:y_down_train})\n",
    "            print('After %d training steps, accuracy on all train data is %g' % (i, total_train_accuracy))\n",
    "            total_test_accuracy = sess.run(accuracy, feed_dict={xTrain:x_down_test, yTrain:y_down_test})\n",
    "            print('After %d training steps, accuracy on all test data is %g' % (i, total_test_accuracy))"
   ]
  },
  {
   "cell_type": "code",
   "execution_count": 69,
   "metadata": {
    "collapsed": true
   },
   "outputs": [],
   "source": [
    "from matplotlib import pyplot as plt"
   ]
  },
  {
   "cell_type": "code",
   "execution_count": 70,
   "metadata": {},
   "outputs": [
    {
     "data": {
      "image/png": "[encoded data removed]",
      "text/plain": [
       "<matplotlib.figure.Figure at 0x186db82de80>"
      ]
     },
     "metadata": {},
     "output_type": "display_data"
    }
   ],
   "source": [
    "ax = plt.figure(figsize=(15,8))\n",
    "plt.plot(range(len(lossup)),lossup)\n",
    "plt.title('Training loss ')\n",
    "plt.xlabel('Epoch')\n",
    "plt.ylabel('Loss')\n",
    "plt.show(ax)"
   ]
  },
  {
   "cell_type": "code",
   "execution_count": 71,
   "metadata": {},
   "outputs": [
    {
     "data": {
      "image/png": "[encoded data removed]",
      "text/plain": [
       "<matplotlib.figure.Figure at 0x186dba62d68>"
      ]
     },
     "metadata": {},
     "output_type": "display_data"
    }
   ],
   "source": [
    "ax = plt.figure(figsize=(15,8))\n",
    "plt.plot(range(len(lossdown)),lossdown)\n",
    "plt.title('Training loss ')\n",
    "plt.xlabel('Epoch')\n",
    "plt.ylabel('Loss')\n",
    "plt.show(ax)"
   ]
  },
  {
   "cell_type": "code",
   "execution_count": null,
   "metadata": {
    "collapsed": true
   },
   "outputs": [],
   "source": []
  },
  {
   "cell_type": "code",
   "execution_count": null,
   "metadata": {
    "collapsed": true
   },
   "outputs": [],
   "source": []
  },
  {
   "cell_type": "code",
   "execution_count": 16,
   "metadata": {
    "scrolled": true
   },
   "outputs": [
    {
     "data": {
      "text/plain": [
       "count    1000.000000\n",
       "mean       11.061524\n",
       "std         0.575088\n",
       "min        10.000377\n",
       "25%        10.549865\n",
       "50%        11.090504\n",
       "75%        11.562022\n",
       "max        11.995127\n",
       "Name: distance, dtype: float64"
      ]
     },
     "execution_count": 16,
     "metadata": {},
     "output_type": "execute_result"
    }
   ],
   "source": [
    "testSet[\"distance\"].describe()"
   ]
  },
  {
   "cell_type": "code",
   "execution_count": 17,
   "metadata": {},
   "outputs": [
    {
     "data": {
      "text/plain": [
       "count    7000.000000\n",
       "mean       14.306769\n",
       "std         7.759768\n",
       "min         0.687198\n",
       "25%         8.357792\n",
       "50%        11.068380\n",
       "75%        21.150343\n",
       "max        36.505566\n",
       "Name: distance, dtype: float64"
      ]
     },
     "execution_count": 17,
     "metadata": {},
     "output_type": "execute_result"
    }
   ],
   "source": [
    "trainSet[\"distance\"].describe()"
   ]
  },
  {
   "cell_type": "code",
   "execution_count": 18,
   "metadata": {},
   "outputs": [
    {
     "data": {
      "text/html": [
       "<div>\n",
       "<style>\n",
       "    .dataframe thead tr:only-child th {\n",
       "        text-align: right;\n",
       "    }\n",
       "\n",
       "    .dataframe thead th {\n",
       "        text-align: left;\n",
       "    }\n",
       "\n",
       "    .dataframe tbody tr th {\n",
       "        vertical-align: top;\n",
       "    }\n",
       "</style>\n",
       "<table border=\"1\" class=\"dataframe\">\n",
       "  <thead>\n",
       "    <tr style=\"text-align: right;\">\n",
       "      <th></th>\n",
       "      <th>distance</th>\n",
       "    </tr>\n",
       "  </thead>\n",
       "  <tbody>\n",
       "    <tr>\n",
       "      <th>count</th>\n",
       "      <td>3476.000000</td>\n",
       "    </tr>\n",
       "    <tr>\n",
       "      <th>mean</th>\n",
       "      <td>7.987758</td>\n",
       "    </tr>\n",
       "    <tr>\n",
       "      <th>std</th>\n",
       "      <td>2.177995</td>\n",
       "    </tr>\n",
       "    <tr>\n",
       "      <th>min</th>\n",
       "      <td>0.687198</td>\n",
       "    </tr>\n",
       "    <tr>\n",
       "      <th>25%</th>\n",
       "      <td>6.593829</td>\n",
       "    </tr>\n",
       "    <tr>\n",
       "      <th>50%</th>\n",
       "      <td>8.343216</td>\n",
       "    </tr>\n",
       "    <tr>\n",
       "      <th>75%</th>\n",
       "      <td>9.513436</td>\n",
       "    </tr>\n",
       "    <tr>\n",
       "      <th>max</th>\n",
       "      <td>11.995372</td>\n",
       "    </tr>\n",
       "  </tbody>\n",
       "</table>\n",
       "</div>"
      ],
      "text/plain": [
       "          distance\n",
       "count  3476.000000\n",
       "mean      7.987758\n",
       "std       2.177995\n",
       "min       0.687198\n",
       "25%       6.593829\n",
       "50%       8.343216\n",
       "75%       9.513436\n",
       "max      11.995372"
      ]
     },
     "execution_count": 18,
     "metadata": {},
     "output_type": "execute_result"
    }
   ],
   "source": [
    "trainSet.loc[trainSet[\"t\"]==0][[\"distance\"]].describe()"
   ]
  },
  {
   "cell_type": "code",
   "execution_count": 19,
   "metadata": {},
   "outputs": [
    {
     "data": {
      "text/html": [
       "<div>\n",
       "<style>\n",
       "    .dataframe thead tr:only-child th {\n",
       "        text-align: right;\n",
       "    }\n",
       "\n",
       "    .dataframe thead th {\n",
       "        text-align: left;\n",
       "    }\n",
       "\n",
       "    .dataframe tbody tr th {\n",
       "        vertical-align: top;\n",
       "    }\n",
       "</style>\n",
       "<table border=\"1\" class=\"dataframe\">\n",
       "  <thead>\n",
       "    <tr style=\"text-align: right;\">\n",
       "      <th></th>\n",
       "      <th>distance</th>\n",
       "    </tr>\n",
       "  </thead>\n",
       "  <tbody>\n",
       "    <tr>\n",
       "      <th>count</th>\n",
       "      <td>3524.000000</td>\n",
       "    </tr>\n",
       "    <tr>\n",
       "      <th>mean</th>\n",
       "      <td>20.539710</td>\n",
       "    </tr>\n",
       "    <tr>\n",
       "      <th>std</th>\n",
       "      <td>6.057052</td>\n",
       "    </tr>\n",
       "    <tr>\n",
       "      <th>min</th>\n",
       "      <td>10.007508</td>\n",
       "    </tr>\n",
       "    <tr>\n",
       "      <th>25%</th>\n",
       "      <td>15.884379</td>\n",
       "    </tr>\n",
       "    <tr>\n",
       "      <th>50%</th>\n",
       "      <td>21.112254</td>\n",
       "    </tr>\n",
       "    <tr>\n",
       "      <th>75%</th>\n",
       "      <td>25.108676</td>\n",
       "    </tr>\n",
       "    <tr>\n",
       "      <th>max</th>\n",
       "      <td>36.505566</td>\n",
       "    </tr>\n",
       "  </tbody>\n",
       "</table>\n",
       "</div>"
      ],
      "text/plain": [
       "          distance\n",
       "count  3524.000000\n",
       "mean     20.539710\n",
       "std       6.057052\n",
       "min      10.007508\n",
       "25%      15.884379\n",
       "50%      21.112254\n",
       "75%      25.108676\n",
       "max      36.505566"
      ]
     },
     "execution_count": 19,
     "metadata": {},
     "output_type": "execute_result"
    }
   ],
   "source": [
    "trainSet.loc[trainSet[\"t\"]==1][[\"distance\"]].describe()"
   ]
  },
  {
   "cell_type": "code",
   "execution_count": null,
   "metadata": {
    "collapsed": true
   },
   "outputs": [],
   "source": []
  },
  {
   "cell_type": "code",
   "execution_count": 55,
   "metadata": {
    "collapsed": true
   },
   "outputs": [],
   "source": [
    "from sklearn import svm"
   ]
  },
  {
   "cell_type": "code",
   "execution_count": 107,
   "metadata": {},
   "outputs": [
    {
     "name": "stdout",
     "output_type": "stream",
     "text": [
      "6766 0.966571428571\n"
     ]
    }
   ],
   "source": [
    "svmC = svm.SVC(C=1.0, kernel='rbf')\n",
    "# svmC = svm.SVC(kernel='poly')\n",
    "svmC.fit(trainSet[[\"a\", \"b\", \"c\"]], trainSet[\"t\"])\n",
    "svmTrainPredict = svmC.predict(trainSet[[\"a\", \"b\", \"c\"]])\n",
    "print(sum(svmTrainPredict==trainSet[\"t\"]), sum(svmTrainPredict==trainSet[\"t\"])/7000.0)"
   ]
  },
  {
   "cell_type": "code",
   "execution_count": 108,
   "metadata": {},
   "outputs": [
    {
     "data": {
      "text/plain": [
       "650"
      ]
     },
     "execution_count": 108,
     "metadata": {},
     "output_type": "execute_result"
    }
   ],
   "source": [
    "svmPredict = svmC.predict(testSet[[\"a\", \"b\", \"c\"]])\n",
    "sum(svmPredict==testSet[\"t\"])"
   ]
  },
  {
   "cell_type": "code",
   "execution_count": null,
   "metadata": {
    "collapsed": true
   },
   "outputs": [],
   "source": []
  },
  {
   "cell_type": "code",
   "execution_count": 105,
   "metadata": {
    "scrolled": false
   },
   "outputs": [
    {
     "name": "stdout",
     "output_type": "stream",
     "text": [
      "100 6995 0.999285714286 765\n",
      "120 6996 0.999428571429 764\n",
      "140 6997 0.999571428571 767\n",
      "160 6998 0.999714285714 769\n",
      "180 6998 0.999714285714 769\n",
      "200 6998 0.999714285714 769\n",
      "220 6998 0.999714285714 769\n",
      "240 6998 0.999714285714 769\n",
      "260 6998 0.999714285714 770\n",
      "280 6998 0.999714285714 770\n",
      "300 6998 0.999714285714 770\n",
      "320 6998 0.999714285714 770\n",
      "340 6998 0.999714285714 770\n",
      "360 6998 0.999714285714 771\n",
      "380 6998 0.999714285714 771\n",
      "400 6998 0.999714285714 772\n",
      "420 6998 0.999714285714 772\n",
      "440 6998 0.999714285714 772\n",
      "460 6999 0.999857142857 772\n",
      "480 6999 0.999857142857 772\n",
      "500 6999 0.999857142857 772\n"
     ]
    }
   ],
   "source": [
    "for number in range(100, 501, 20):\n",
    "    svmC = svm.SVC(C=number, kernel='rbf', tol=0.0001)\n",
    "    svmC.fit(trainSet[[\"a\", \"b\", \"c\"]], trainSet[\"t\"])\n",
    "    svmTrainPredict = svmC.predict(trainSet[[\"a\", \"b\", \"c\"]])\n",
    "    svmPredict = svmC.predict(testSet[[\"a\", \"b\", \"c\"]])\n",
    "    print(number, sum(svmTrainPredict==trainSet[\"t\"]), sum(svmTrainPredict==trainSet[\"t\"])/7000.0, sum(svmPredict==testSet[\"t\"]))"
   ]
  },
  {
   "cell_type": "code",
   "execution_count": 106,
   "metadata": {},
   "outputs": [
    {
     "name": "stdout",
     "output_type": "stream",
     "text": [
      "5 6884 0.983428571429 721\n",
      "10 6930 0.99 736\n",
      "15 6952 0.993142857143 748\n",
      "20 6963 0.994714285714 751\n",
      "25 6975 0.996428571429 762\n",
      "30 6975 0.996428571429 760\n",
      "35 6979 0.997 762\n",
      "40 6982 0.997428571429 763\n",
      "45 6985 0.997857142857 767\n",
      "50 6988 0.998285714286 768\n",
      "55 6988 0.998285714286 769\n",
      "60 6989 0.998428571429 767\n",
      "65 6991 0.998714285714 766\n",
      "70 6993 0.999 767\n",
      "75 6994 0.999142857143 767\n",
      "80 6994 0.999142857143 768\n",
      "85 6995 0.999285714286 768\n",
      "90 6995 0.999285714286 768\n",
      "95 6995 0.999285714286 766\n",
      "100 6995 0.999285714286 765\n"
     ]
    }
   ],
   "source": [
    "for number in range(5, 101, 5):\n",
    "    svmC = svm.SVC(C=number, kernel='rbf', tol=0.0001)\n",
    "    svmC.fit(trainSet[[\"a\", \"b\", \"c\"]], trainSet[\"t\"])\n",
    "    svmTrainPredict = svmC.predict(trainSet[[\"a\", \"b\", \"c\"]])\n",
    "    svmPredict = svmC.predict(testSet[[\"a\", \"b\", \"c\"]])\n",
    "    print(number, sum(svmTrainPredict==trainSet[\"t\"]), sum(svmTrainPredict==trainSet[\"t\"])/7000.0, sum(svmPredict==testSet[\"t\"]))"
   ]
  },
  {
   "cell_type": "code",
   "execution_count": null,
   "metadata": {
    "collapsed": true
   },
   "outputs": [],
   "source": []
  },
  {
   "cell_type": "code",
   "execution_count": null,
   "metadata": {
    "collapsed": true
   },
   "outputs": [],
   "source": []
  },
  {
   "cell_type": "code",
   "execution_count": null,
   "metadata": {
    "collapsed": true
   },
   "outputs": [],
   "source": []
  },
  {
   "cell_type": "code",
   "execution_count": 31,
   "metadata": {
    "collapsed": true
   },
   "outputs": [],
   "source": [
    "# from sklearn.mixture import GMM\n",
    "# gmm = GMM(n_components=4).fit(trainSet[[\"distance\"]])\n",
    "# labels = gmm.predict(testSet[[\"distance\"]])"
   ]
  },
  {
   "cell_type": "code",
   "execution_count": null,
   "metadata": {
    "collapsed": true
   },
   "outputs": [],
   "source": []
  },
  {
   "cell_type": "code",
   "execution_count": 60,
   "metadata": {},
   "outputs": [
    {
     "data": {
      "text/plain": [
       "6502"
      ]
     },
     "execution_count": 60,
     "metadata": {},
     "output_type": "execute_result"
    }
   ],
   "source": [
    "svmCC = svm.SVC(kernel='linear')\n",
    "svmCC.fit(trainSet[[\"distance\"]], trainSet[\"t\"])\n",
    "svmCCTrainPredict = svmCC.predict(trainSet[[\"distance\"]])\n",
    "sum(svmCCTrainPredict==trainSet[\"t\"])"
   ]
  },
  {
   "cell_type": "code",
   "execution_count": 61,
   "metadata": {},
   "outputs": [
    {
     "data": {
      "text/plain": [
       "505"
      ]
     },
     "execution_count": 61,
     "metadata": {},
     "output_type": "execute_result"
    }
   ],
   "source": [
    "svmCCTrainPredict = svmCC.predict(testSet[[\"distance\"]])\n",
    "sum(svmCCTrainPredict==testSet[\"t\"])"
   ]
  },
  {
   "cell_type": "code",
   "execution_count": null,
   "metadata": {
    "collapsed": true
   },
   "outputs": [],
   "source": []
  },
  {
   "cell_type": "code",
   "execution_count": 73,
   "metadata": {
    "scrolled": true
   },
   "outputs": [
    {
     "name": "stdout",
     "output_type": "stream",
     "text": [
      "6524\n",
      "525\n",
      "************\n",
      "6530\n",
      "527\n",
      "************\n",
      "6542\n",
      "529\n",
      "************\n",
      "6535\n",
      "524\n",
      "************\n",
      "6531\n",
      "516\n",
      "************\n",
      "6518\n",
      "503\n",
      "************\n",
      "6503\n",
      "501\n",
      "************\n",
      "6503\n",
      "500\n",
      "************\n",
      "6503\n",
      "502\n",
      "************\n",
      "6502\n",
      "507\n",
      "************\n",
      "6506\n",
      "503\n",
      "************\n",
      "6509\n",
      "497\n",
      "************\n",
      "6512\n",
      "503\n",
      "************\n",
      "6496\n",
      "496\n",
      "************\n",
      "6502\n",
      "496\n",
      "************\n",
      "6500\n",
      "497\n",
      "************\n",
      "6484\n",
      "488\n",
      "************\n",
      "6477\n",
      "484\n",
      "************\n",
      "6479\n",
      "484\n",
      "************\n",
      "6480\n",
      "483\n",
      "************\n",
      "6476\n",
      "475\n",
      "************\n"
     ]
    }
   ],
   "source": [
    "List = [10, 10.1, 10.2, 10.3, 10.4, 10.5, 10.6, 10.7, 10.8, 10.9, 11, 11.1, 11.2, 11.3, 11.4, 11.5, 11.6, 11.7, 11.8, 11.9, 12]\n",
    "for number in List:\n",
    "    print(sum((trainSet[\"distance\"]>number) == (trainSet[\"t\"]==1)))\n",
    "    print(sum((testSet[\"distance\"]>number) == (testSet[\"t\"]==1)))\n",
    "    print('************')"
   ]
  },
  {
   "cell_type": "code",
   "execution_count": null,
   "metadata": {
    "collapsed": true
   },
   "outputs": [],
   "source": []
  }
 ],
 "metadata": {
  "kernelspec": {
   "display_name": "Python 3",
   "language": "python",
   "name": "python3"
  },
  "language_info": {
   "codemirror_mode": {
    "name": "ipython",
    "version": 3
   },
   "file_extension": ".py",
   "mimetype": "text/x-python",
   "name": "python",
   "nbconvert_exporter": "python",
   "pygments_lexer": "ipython3",
   "version": "3.6.2"
  }
 },
 "nbformat": 4,
 "nbformat_minor": 2
}
